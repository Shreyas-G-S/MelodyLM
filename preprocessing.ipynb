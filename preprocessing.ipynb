{
 "cells": [
  {
   "cell_type": "markdown",
   "metadata": {},
   "source": [
    "# Preprocess Audio Files"
   ]
  },
  {
   "cell_type": "markdown",
   "metadata": {},
   "source": [
    "### Libraries:\n",
    "- Audio Segment\n",
    "- os"
   ]
  },
  {
   "cell_type": "code",
   "execution_count": 1,
   "metadata": {},
   "outputs": [],
   "source": [
    "from pydub import AudioSegment\n",
    "import os"
   ]
  },
  {
   "cell_type": "markdown",
   "metadata": {},
   "source": [
    "### Preprocessing Function:"
   ]
  },
  {
   "cell_type": "code",
   "execution_count": 2,
   "metadata": {},
   "outputs": [],
   "source": [
    "def preprocess_audio(file_path, output_path, sr=16000, length=30*1000):\n",
    "    # Load audio file\n",
    "    audio = AudioSegment.from_file(file_path)\n",
    "    \n",
    "    # Resample to desired sampling rate\n",
    "    audio = audio.set_frame_rate(sr)\n",
    "    \n",
    "    # Normalize audio\n",
    "    audio = audio.apply_gain(-audio.max_dBFS)\n",
    "    \n",
    "    # Trim or pad to the desired length\n",
    "    if len(audio) > length:\n",
    "        audio = audio[:length]\n",
    "    else:\n",
    "        padding = AudioSegment.silent(duration=length - len(audio))\n",
    "        audio = audio + padding\n",
    "    \n",
    "    # Export the preprocessed audio\n",
    "    audio.export(output_path, format=\"wav\")"
   ]
  },
  {
   "cell_type": "markdown",
   "metadata": {},
   "source": [
    "### Retriving and Saving Paths"
   ]
  },
  {
   "cell_type": "code",
   "execution_count": 3,
   "metadata": {},
   "outputs": [],
   "source": [
    "# Directory containing downloaded audio segments\n",
    "input_dir = 'audio_segments'\n",
    "\n",
    "# Directory to save preprocessed audio segments\n",
    "output_dir = 'preprocessed_audio_segments'\n",
    "os.makedirs(output_dir, exist_ok=True)"
   ]
  },
  {
   "cell_type": "markdown",
   "metadata": {},
   "source": [
    "### Preprocessing each audio file"
   ]
  },
  {
   "cell_type": "code",
   "execution_count": 4,
   "metadata": {},
   "outputs": [],
   "source": [
    "for file_name in os.listdir(input_dir):\n",
    "    if file_name.endswith('.wav'):\n",
    "        file_path = os.path.join(input_dir, file_name)\n",
    "        output_path = os.path.join(output_dir, file_name)\n",
    "        preprocess_audio(file_path, output_path)"
   ]
  }
 ],
 "metadata": {
  "kernelspec": {
   "display_name": "Python 3",
   "language": "python",
   "name": "python3"
  },
  "language_info": {
   "codemirror_mode": {
    "name": "ipython",
    "version": 3
   },
   "file_extension": ".py",
   "mimetype": "text/x-python",
   "name": "python",
   "nbconvert_exporter": "python",
   "pygments_lexer": "ipython3",
   "version": "3.11.2"
  }
 },
 "nbformat": 4,
 "nbformat_minor": 2
}
